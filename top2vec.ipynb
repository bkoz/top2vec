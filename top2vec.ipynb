{
  "nbformat": 4,
  "nbformat_minor": 0,
  "metadata": {
    "colab": {
      "name": "top2vec.ipynb",
      "provenance": [],
      "collapsed_sections": []
    },
    "kernelspec": {
      "name": "python3",
      "display_name": "Python 3"
    },
    "language_info": {
      "name": "python"
    }
  },
  "cells": [
    {
      "cell_type": "code",
      "source": [
        "!pip install top2vec -q"
      ],
      "metadata": {
        "id": "YeCgybQbO9sX"
      },
      "execution_count": null,
      "outputs": []
    },
    {
      "cell_type": "code",
      "execution_count": null,
      "metadata": {
        "id": "csf_ILDJO2t_"
      },
      "outputs": [],
      "source": [
        "from top2vec import Top2Vec\n",
        "from sklearn.datasets import fetch_20newsgroups\n",
        "import time"
      ]
    },
    {
      "cell_type": "code",
      "source": [
        "fetch_20newsgroups()['target_names']"
      ],
      "metadata": {
        "id": "6yh08gppO6BK"
      },
      "execution_count": null,
      "outputs": []
    },
    {
      "cell_type": "code",
      "source": [
        "data = fetch_20newsgroups(\n",
        "    categories=['comp.graphics','sci.med','talk.politics.guns','rec.autos','soc.religion.christian']\n",
        ")"
      ],
      "metadata": {
        "id": "QI3GA7uxPp0d"
      },
      "execution_count": null,
      "outputs": []
    },
    {
      "cell_type": "code",
      "source": [
        "news = data['data']\n",
        "target = data['target']\n",
        "target_names = data['target_names']"
      ],
      "metadata": {
        "id": "-hpT_LltPy-8"
      },
      "execution_count": null,
      "outputs": []
    },
    {
      "cell_type": "code",
      "source": [
        "t0 = time.time()"
      ],
      "metadata": {
        "id": "JnyptBbYfjWZ"
      },
      "execution_count": null,
      "outputs": []
    },
    {
      "cell_type": "code",
      "source": [
        "model = Top2Vec(news, workers=10)"
      ],
      "metadata": {
        "id": "frLx1oFNP3aS"
      },
      "execution_count": null,
      "outputs": []
    },
    {
      "cell_type": "code",
      "source": [
        "print(f'Elapsed time {time.time() - t0}')"
      ],
      "metadata": {
        "id": "yWjRTdF0f8GD"
      },
      "execution_count": null,
      "outputs": []
    },
    {
      "cell_type": "code",
      "source": [
        "model.get_topics()[0][3]"
      ],
      "metadata": {
        "id": "J-3bQ3olP7IT"
      },
      "execution_count": null,
      "outputs": []
    },
    {
      "cell_type": "code",
      "source": [
        "model.query_topics('pixel', 5)"
      ],
      "metadata": {
        "id": "1tT15HiqQXxx"
      },
      "execution_count": null,
      "outputs": []
    },
    {
      "cell_type": "code",
      "source": [
        ""
      ],
      "metadata": {
        "id": "0pxJcvvaQoNp"
      },
      "execution_count": null,
      "outputs": []
    }
  ]
}